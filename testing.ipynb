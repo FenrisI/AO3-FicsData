{
 "cells": [
  {
   "cell_type": "code",
   "execution_count": 3,
   "metadata": {},
   "outputs": [],
   "source": [
    "from bs4 import BeautifulSoup as BS\n",
    "import requests\n",
    "import matplotlib\n",
    "import matplotlib.pyplot as plt\n",
    "from pandas import DataFrame\n",
    "import string\n",
    "import time"
   ]
  },
  {
   "cell_type": "code",
   "execution_count": 4,
   "metadata": {},
   "outputs": [],
   "source": [
    "\n",
    "punctuation_1='!\"#$%&()*+,–—./:;<=>?@[\\\\]^_`{|}~”“…\\n'\n",
    "punctuation_2=\"-'‘’\\xa0\\t\"\n",
    "letters=\"abcdefghijklmnopqrstuvwxyz1234567890\"\n",
    "s = requests.session()\n",
    "s.headers.update({'User-Agent':'Mozilla/5.0 (Windows NT 10.0; Win64; x64; rv:134.0) Gecko/20100101 Firefox/134.0', 'DNT':'1', 'Accept-Language':'en-US,en:1=0.5', 'Referer':'https://archiveofourown.org/works'})\n",
    "s.cookies.update({'view_adult':'true'})\n",
    "\n",
    "site=\"https://archiveofourown.org\"\n",
    "ficLink = \"/works/58203763/chapters/148205701\"\n",
    "\n",
    "letterTTable = dict.fromkeys(map(ord, letters), None)\n",
    "puncTTable = dict.fromkeys(map(ord, punctuation_1), \" \")\n",
    "for c in punctuation_2:\n",
    "    puncTTable[ord(c)]=None"
   ]
  },
  {
   "cell_type": "code",
   "execution_count": 6,
   "metadata": {},
   "outputs": [],
   "source": [
    "def findNext(ficLink):\n",
    "    for i in soup.findAll('a'):\n",
    "        if \"Next Chapter →\" in i:\n",
    "            return i.get('href')\n",
    "\n",
    "def chapterWords():\n",
    "    chapter = soup.find('div',attrs={\"class\":\"userstuff module\"})\n",
    "    output = chapter.text \n",
    "    output = output.lower()\n",
    "    #getting rid of punctuations\n",
    "    output.translate(puncTTable)\n",
    "\n",
    "    return (len(output.split())-2)\n",
    "\n",
    "\n",
    "soup = BS(s.get(site+ficLink).text, \"html.parser\")\n",
    "counts = []"
   ]
  },
  {
   "cell_type": "code",
   "execution_count": null,
   "metadata": {},
   "outputs": [],
   "source": [
    "start=time.time()\n",
    "while findNext(ficLink) != None:\n",
    "        \n",
    "        print(\"....\")\n",
    "        t=time.time()\n",
    "        FIC=s.get(site+ficLink)\n",
    "        print(time.time()-t)\n",
    "        soup = BS(FIC.text, \"html.parser\")\n",
    "\n",
    "        print(FIC.ok)\n",
    "        counts.append(chapterWords())\n",
    "        ficLink = findNext(ficLink)\n",
    "diff = time.time() - start\n",
    "\n",
    "print(diff)"
   ]
  },
  {
   "cell_type": "code",
   "execution_count": null,
   "metadata": {},
   "outputs": [],
   "source": [
    "plt.style.use('classic')\n",
    "plt.rcParams[\"figure.dpi\"] = 150\n",
    "plt.tight_layout(pad=2.5)\n",
    "plt.plot([i for i in range(1,len(counts)+1)],counts, color=\"#12ACAE\")\n",
    "#plt.xlim(1, len(counts)+1)\n",
    "#plt.ylim(0, sorted(counts)[-1])\n",
    "plt.title(\"title here\")\n",
    "\n",
    "plt.xlabel('Chapter')\n",
    "plt.ylabel('Words')\n",
    "plt.grid()\n",
    "#plt.savefig(f\"{title}_{len(counts)}.png\")\n",
    "plt.show()"
   ]
  }
 ],
 "metadata": {
  "kernelspec": {
   "display_name": ".venv",
   "language": "python",
   "name": "python3"
  },
  "language_info": {
   "codemirror_mode": {
    "name": "ipython",
    "version": 3
   },
   "file_extension": ".py",
   "mimetype": "text/x-python",
   "name": "python",
   "nbconvert_exporter": "python",
   "pygments_lexer": "ipython3",
   "version": "3.12.2"
  }
 },
 "nbformat": 4,
 "nbformat_minor": 2
}
